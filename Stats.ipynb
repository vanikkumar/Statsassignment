{
  "nbformat": 4,
  "nbformat_minor": 0,
  "metadata": {
    "colab": {
      "provenance": []
    },
    "kernelspec": {
      "name": "python3",
      "display_name": "Python 3"
    },
    "language_info": {
      "name": "python"
    }
  },
  "cells": [
    {
      "cell_type": "markdown",
      "source": [
        " **1. Explain the different types of data (qualitative and quantitative) and provide examples of each. Discuss\n",
        "nominal, ordinal, interval, and ratio scales.**\n",
        "\n",
        "\n",
        "Types of Data\n",
        "Qualitative Data:\n",
        "\n",
        "Non-numeric, categorical.\n",
        "Example: Colors (red, blue), gender (male, female).\n",
        "Quantitative Data:\n",
        "\n",
        "Numeric, used for counting or measuring.\n",
        "Example: Age (25 years), height (180 cm).\n",
        "Scales of Measurement\n",
        "Nominal:\n",
        "\n",
        "Categories without order.\n",
        "Example: Eye color, nationality.\n",
        "Ordinal:\n",
        "\n",
        "Ordered categories, but intervals are unequal.\n",
        "Example: Rank (1st, 2nd), satisfaction level (low, medium, high).\n",
        "Interval:\n",
        "\n",
        "Numeric, equal intervals, no true zero.\n",
        "Example: Temperature in Celsius.\n",
        "Ratio:\n",
        "\n",
        "Numeric, equal intervals, true zero.\n",
        "Example: Height, weight."
      ],
      "metadata": {
        "id": "fqyAxG7JYOyL"
      }
    },
    {
      "cell_type": "markdown",
      "source": [
        "**2. What are the measures of central tendency, and when should you use each? Discuss the mean, median,\n",
        "and mode with examples and situations where each is appropriate**\n",
        "\n",
        "Mean (Average):\n",
        "\n",
        "Sum of all values divided by the number of values.\n",
        "Use: When data is continuous and there are no extreme outliers.\n",
        "Example: Average income of employees in a company.\n",
        "Median (Middle Value):\n",
        "\n",
        "The middle value when data is ordered.\n",
        "Use: For skewed distributions or when there are outliers.\n",
        "Example: Median house prices in a city.\n",
        "Mode (Most Frequent Value):\n",
        "\n",
        "The value that appears most frequently.\n",
        "Use: For categorical data or when identifying the most common value.\n",
        "Example: The most common shoe size sold in a store.\n"
      ],
      "metadata": {
        "id": "yMX24BueY6UL"
      }
    },
    {
      "cell_type": "markdown",
      "source": [
        "**3. Explain the concept of dispersion. How do variance and standard deviation measure the spread of data?**\n",
        "\n",
        "Dispersion refers to the spread or variability of data points in a dataset. It shows how much the data values differ from the central tendency (mean, median, mode). High dispersion indicates that data points are spread out, while low dispersion suggests they are close to the center.\n",
        "\n",
        "Variance\n",
        "Variance measures the average squared deviation of each data point from the mean. It gives an idea of how much the data points vary from the mean, in squared units.\n",
        "\n",
        "Interpretation: Larger variance indicates data is spread out from the mean, and smaller variance indicates data is clustered closer to the mean.\n",
        "\n",
        "Standard Deviation\n",
        "Standard deviation is the square root of the variance, providing a measure of dispersion in the same units as the data.\n",
        "\n",
        "Interpretation: A larger standard deviation means more spread out data; a smaller one means data is closer to the mean"
      ],
      "metadata": {
        "id": "5un43yVrZOJI"
      }
    },
    {
      "cell_type": "markdown",
      "source": [
        "**4. What is a box plot, and what can it tell you about the distribution of data?**\n",
        "\n",
        "A box plot (or whisker plot) is a graphical representation of data that shows its distribution through five summary statistics: minimum, first quartile (Q1), median (Q2), third quartile (Q3), and maximum. It helps visualize the spread, center, and skewness of the data, as well as potential outliers.\n",
        "\n",
        "What it reveals:\n",
        "Median (Q2): Central value.\n",
        "Interquartile Range (IQR): Spread between Q1 and Q3, indicating the middle 50% of the data.\n",
        "Whiskers: Show the range of data, excluding outliers.\n",
        "Outliers: Data points outside the whiskers, indicating extreme values.\n",
        "A box plot gives a quick view of symmetry, spread, and potential outliers in a dataset."
      ],
      "metadata": {
        "id": "vgR4stXYZoIc"
      }
    },
    {
      "cell_type": "markdown",
      "source": [
        "**5. Discuss the role of random sampling in making inferences about populations.**\n",
        "\n",
        "Random sampling selects a subset from a population where each member has an equal chance of being chosen. It ensures that the sample is representative, allowing researchers to make accurate, unbiased inferences about the population. This method helps generalize results, minimizes bias, and reduces sampling error, leading to reliable conclusions about the larger group."
      ],
      "metadata": {
        "id": "mtGfeSrmZz89"
      }
    },
    {
      "cell_type": "markdown",
      "source": [
        "**6. Explain the concept of skewness and its types. How does skewness affect the interpretation of data?**\n",
        "\n",
        "Skewness refers to the asymmetry in the distribution of data. It indicates whether data is skewed to the left or right.\n",
        "\n",
        "Types of Skewness:\n",
        "Positive Skew (Right-skewed): Tail is longer on the right. Most data points are concentrated on the left.\n",
        "Negative Skew (Left-skewed): Tail is longer on the left. Most data points are concentrated on the right.\n",
        "Effect on Data Interpretation:\n",
        "Positive Skew: Mean is greater than the median, indicating higher values are pulling the average up.\n",
        "Negative Skew: Mean is less than the median, indicating lower values are pulling the average down.\n",
        "Skewness affects central tendency and spread, influencing which measures (mean, median) are more appropriate for describing the data."
      ],
      "metadata": {
        "id": "9tFjUIplaB6o"
      }
    },
    {
      "cell_type": "markdown",
      "source": [
        "**7. What is the interquartile range (IQR), and how is it used to detect outliers?**\n",
        "\n",
        "The Interquartile Range (IQR) is the range between the first quartile (Q1) and the third quartile (Q3), representing the middle 50% of the data.\n",
        "\n",
        "Formula:\n",
        "\n",
        "IQR=Q3−Q1\n",
        "Detecting Outliers:\n",
        "Outliers are identified as data points that fall below\n",
        "\n",
        "IQR\n",
        "Q3+1.5×IQR or Q1 - 1.5(IQR). These points are considered unusually low or high compared to the rest of the data."
      ],
      "metadata": {
        "id": "LuTHF3G-aWN8"
      }
    },
    {
      "cell_type": "markdown",
      "source": [
        "**8. Discuss the conditions under which the binomial distribution is used.**\n",
        "\n",
        "The binomial distribution is used when:\n",
        "\n",
        "There are a fixed number of trials.\n",
        "Each trial has only two possible outcomes (success or failure).\n",
        "The probability of success is constant for each trial.\n",
        "Trials are independent of each other.\n",
        "Example: Flipping a coin 10 times to count the number of heads."
      ],
      "metadata": {
        "id": "FnzbxGmHbK8Z"
      }
    },
    {
      "cell_type": "markdown",
      "source": [
        "**9. Explain the properties of the normal distribution and the empirical rule (68-95-99.7 rule).**\n",
        "\n",
        "The normal distribution is symmetric, bell-shaped, with the mean, median, and mode all equal at the center. Its shape is determined by the mean (center) and standard deviation (spread).\n",
        "\n",
        "Empirical Rule (68-95-99.7 Rule):\n",
        "68% of data falls within 1 standard deviation of the mean.\n",
        "95% within 2 standard deviations.\n",
        "99.7% within 3 standard deviations.\n",
        "This rule helps estimate data spread in a normal distribution."
      ],
      "metadata": {
        "id": "8cmrngOqbWXD"
      }
    },
    {
      "cell_type": "markdown",
      "source": [
        "**10. Provide a real-life example of a Poisson process and calculate the probability for a specific event.**\n",
        "\n",
        "A Poisson process models events that occur randomly but at a known average rate over time. For example, if a bank averages 5 customer arrivals per hour, the Poisson process can be used to find the probability of seeing a certain number of arrivals.\n",
        "\n",
        "Example:\n",
        "If the bank expects 5 customers per hour, and you want to find the probability of exactly 3 customers arriving in one hour, the Poisson distribution helps calculate this based on the average rate and event count.\n",
        "\n",
        "This process is used for things like:\n",
        "\n",
        "Number of calls at a call center per minute.\n",
        "Number of accidents at an intersection per month."
      ],
      "metadata": {
        "id": "S3cAP3tebjSX"
      }
    },
    {
      "cell_type": "markdown",
      "source": [
        "**11. Explain what a random variable is and differentiate between discrete and continuous random variables.**\n",
        "\n",
        "A random variable is a variable that represents the outcome of a random event, mapping outcomes to numerical values.\n",
        "\n",
        "Types:\n",
        "Discrete Random Variable: Takes on specific, countable values (e.g., number of heads in coin flips).\n",
        "Continuous Random Variable: Takes on any value within a range or interval (e.g., height of people, temperature).\n",
        "In short, discrete variables have distinct, separate values, while continuous variables can take any value in a given range."
      ],
      "metadata": {
        "id": "Ir3wq1wBb4GP"
      }
    },
    {
      "cell_type": "markdown",
      "source": [
        "**12. Provide an example dataset, calculate both covariance and correlation, and interpret the results.**\n",
        "\n",
        "\n",
        "Example Dataset:\n",
        "Consider two variables, X (study hours) and Y (test scores):\n",
        "\n",
        "X: [2, 3, 5, 7, 9]\n",
        "Y: [50, 60, 65, 80, 85]\n",
        "Covariance:\n",
        "Covariance measures the direction of the relationship between X and Y. A positive covariance means they increase together, while a negative value means one decreases as the other increases.\n",
        "Correlation:\n",
        "Correlation (standardized covariance) measures both the direction and strength of the relationship between X and Y, ranging from -1 to 1. A value near 1 means a strong positive relationship, while a value near -1 indicates a strong negative relationship.\n",
        "Interpretation:\n",
        "If covariance is positive, X and Y move together.\n",
        "A correlation close to 1 would indicate a strong, positive linear relationship between study hours and test scores."
      ],
      "metadata": {
        "id": "x51gQbYjcAkF"
      }
    }
  ]
}